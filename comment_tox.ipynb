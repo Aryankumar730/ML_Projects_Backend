{
 "cells": [
  {
   "cell_type": "code",
   "execution_count": 2,
   "id": "b177fa41-986c-4616-ba79-e440f912f2f6",
   "metadata": {},
   "outputs": [],
   "source": [
    "import os\n",
    "import pandas as pd\n",
    "import tensorflow as tf\n",
    "import numpy as np"
   ]
  },
  {
   "cell_type": "code",
   "execution_count": 3,
   "id": "624048d5-f5cd-423e-a3ff-0cb2f103d7c5",
   "metadata": {},
   "outputs": [],
   "source": [
    "df = pd.read_csv(os.path.join('dataset_tox/train.csv'))"
   ]
  },
  {
   "cell_type": "code",
   "execution_count": 4,
   "id": "c13158fb-b924-4ef1-8a26-191d62ab32ad",
   "metadata": {},
   "outputs": [],
   "source": [
    "from tensorflow.keras.layers import TextVectorization"
   ]
  },
  {
   "cell_type": "code",
   "execution_count": 5,
   "id": "ca3f4fcb-ba43-41e4-8a30-248aa8be468b",
   "metadata": {},
   "outputs": [
    {
     "data": {
      "text/plain": [
       "array([[0, 0, 0, 0, 0, 0],\n",
       "       [0, 0, 0, 0, 0, 0],\n",
       "       [0, 0, 0, 0, 0, 0],\n",
       "       ...,\n",
       "       [0, 0, 0, 0, 0, 0],\n",
       "       [0, 0, 0, 0, 0, 0],\n",
       "       [0, 0, 0, 0, 0, 0]], dtype=int64)"
      ]
     },
     "execution_count": 5,
     "metadata": {},
     "output_type": "execute_result"
    }
   ],
   "source": [
    "df.iloc[0] # this will grab the first complete row\n",
    "df.iloc[0]['comment_text'] # this will grab the comment_text in first row\n",
    "\n",
    "df[df['toxic'] == 1].head() # this will grab the toxic equal to 1 row in head i.e first 5 elements\n",
    "df.columns\n",
    "\n",
    "X = df['comment_text']\n",
    "y = df[df.columns[2:]].values\n",
    "\n",
    "y"
   ]
  },
  {
   "cell_type": "code",
   "execution_count": 6,
   "id": "2026af0e-534c-4dcb-ac9c-fd79fa34fd81",
   "metadata": {},
   "outputs": [],
   "source": [
    "MAX_FEATURES = 200000 # number of words in the vocab\n",
    "vectorizer = TextVectorization(max_tokens=MAX_FEATURES,\n",
    "                               output_sequence_length=1800,\n",
    "                               output_mode='int')"
   ]
  },
  {
   "cell_type": "code",
   "execution_count": 7,
   "id": "311e8c61-bf95-4756-a6bb-ce13c3eff6fa",
   "metadata": {},
   "outputs": [],
   "source": [
    "vectorizer.adapt(X.values)"
   ]
  },
  {
   "cell_type": "code",
   "execution_count": 8,
   "id": "bf4e5ef0-2ad9-45c5-ab0d-fbcffaa0617c",
   "metadata": {},
   "outputs": [
    {
     "data": {
      "text/plain": [
       "<tf.Tensor: shape=(6,), dtype=int64, numpy=array([  8,  74, 164,   3, 942,   7], dtype=int64)>"
      ]
     },
     "execution_count": 8,
     "metadata": {},
     "output_type": "execute_result"
    }
   ],
   "source": [
    "vectorizer('I am going to kill you')[:6]"
   ]
  },
  {
   "cell_type": "code",
   "execution_count": 9,
   "id": "d0da77ab-1476-41ac-80e6-a3623600800e",
   "metadata": {},
   "outputs": [],
   "source": [
    "vectorized_text = vectorizer(X.values)"
   ]
  },
  {
   "cell_type": "code",
   "execution_count": 10,
   "id": "ef5dbfb2-e211-4860-9c67-df60d5b6a269",
   "metadata": {},
   "outputs": [],
   "source": [
    "dataset = tf.data.Dataset.from_tensor_slices((vectorized_text, y))\n",
    "dataset = dataset.cache()\n",
    "dataset = dataset.shuffle(160000)\n",
    "dataset = dataset.batch(16)\n",
    "dataset = dataset.prefetch(8) # helps bottlenecks"
   ]
  },
  {
   "cell_type": "code",
   "execution_count": 11,
   "id": "af8c2d40-d995-493a-991a-8300b7214d6e",
   "metadata": {},
   "outputs": [],
   "source": [
    "train = dataset.take(int(len(dataset)*.7))\n",
    "val = dataset.skip(int(len(dataset)*.7)).take(int(len(dataset)*.2))\n",
    "test = dataset.skip(int(len(dataset)*.9)).take(int(len(dataset)*.1))"
   ]
  },
  {
   "cell_type": "code",
   "execution_count": 12,
   "id": "e2df7490-e7e5-4a87-ae98-0b4cc91190b3",
   "metadata": {},
   "outputs": [
    {
     "data": {
      "text/plain": [
       "(array([[  1525,    477,    390, ...,      0,      0,      0],\n",
       "        [  4631, 100749,      0, ...,      0,      0,      0],\n",
       "        [    88,      7,    130, ...,      0,      0,      0],\n",
       "        ...,\n",
       "        [   428,    180,      3, ...,      0,      0,      0],\n",
       "        [   414,   1496,     36, ...,      0,      0,      0],\n",
       "        [     1,      1,     13, ...,      0,      0,      0]], dtype=int64),\n",
       " array([[0, 0, 0, 0, 0, 0],\n",
       "        [0, 0, 0, 0, 0, 0],\n",
       "        [0, 0, 0, 0, 0, 0],\n",
       "        [0, 0, 0, 0, 0, 0],\n",
       "        [0, 0, 0, 0, 0, 0],\n",
       "        [0, 0, 0, 0, 0, 0],\n",
       "        [0, 0, 0, 0, 0, 0],\n",
       "        [0, 0, 0, 0, 0, 0],\n",
       "        [0, 0, 0, 0, 0, 0],\n",
       "        [0, 0, 0, 0, 0, 0],\n",
       "        [0, 0, 0, 0, 0, 0],\n",
       "        [0, 0, 0, 0, 0, 0],\n",
       "        [0, 0, 0, 0, 0, 0],\n",
       "        [0, 0, 0, 0, 0, 0],\n",
       "        [1, 0, 0, 0, 0, 0],\n",
       "        [0, 0, 0, 0, 0, 0]], dtype=int64))"
      ]
     },
     "execution_count": 12,
     "metadata": {},
     "output_type": "execute_result"
    }
   ],
   "source": [
    "train.as_numpy_iterator().next()"
   ]
  },
  {
   "cell_type": "code",
   "execution_count": 13,
   "id": "82329a37-8f9e-4890-b589-7a254eb4c688",
   "metadata": {},
   "outputs": [],
   "source": [
    "from tensorflow.keras.models import Sequential\n",
    "from tensorflow.keras.layers import LSTM, Dropout, Bidirectional, Dense, Embedding"
   ]
  },
  {
   "cell_type": "code",
   "execution_count": 17,
   "id": "7a497564-f536-4cd0-8a2d-1838517a45e9",
   "metadata": {},
   "outputs": [],
   "source": [
    "model = Sequential()\n",
    "# Create the embedding layer \n",
    "# model.add(vectorizer)\n",
    "model.add(Embedding(MAX_FEATURES+1, 32))\n",
    "# Bidirectional LSTM Layer\n",
    "model.add(Bidirectional(LSTM(32, activation='tanh')))\n",
    "# Feature extractor Fully connected layers\n",
    "model.add(Dense(128, activation='relu'))\n",
    "model.add(Dense(256, activation='relu'))\n",
    "model.add(Dense(128, activation='relu'))\n",
    "# Final layer \n",
    "model.add(Dense(6, activation='sigmoid'))"
   ]
  },
  {
   "cell_type": "code",
   "execution_count": 18,
   "id": "959c0b8a-a858-4d15-aa35-48937bf4e117",
   "metadata": {},
   "outputs": [
    {
     "name": "stdout",
     "output_type": "stream",
     "text": [
      "Model: \"sequential_1\"\n",
      "_________________________________________________________________\n",
      " Layer (type)                Output Shape              Param #   \n",
      "=================================================================\n",
      " embedding_1 (Embedding)     (None, None, 32)          6400032   \n",
      "                                                                 \n",
      " bidirectional_1 (Bidirectio  (None, 64)               16640     \n",
      " nal)                                                            \n",
      "                                                                 \n",
      " dense_4 (Dense)             (None, 128)               8320      \n",
      "                                                                 \n",
      " dense_5 (Dense)             (None, 256)               33024     \n",
      "                                                                 \n",
      " dense_6 (Dense)             (None, 128)               32896     \n",
      "                                                                 \n",
      " dense_7 (Dense)             (None, 6)                 774       \n",
      "                                                                 \n",
      "=================================================================\n",
      "Total params: 6,491,686\n",
      "Trainable params: 6,491,686\n",
      "Non-trainable params: 0\n",
      "_________________________________________________________________\n"
     ]
    }
   ],
   "source": [
    "model.compile(loss='BinaryCrossentropy', optimizer='Adam', metrics=['accuracy'])\n",
    "model.summary()"
   ]
  },
  {
   "cell_type": "code",
   "execution_count": 19,
   "id": "cf929e5d-ab02-4b4e-abaa-b07286d7ff65",
   "metadata": {},
   "outputs": [
    {
     "name": "stdout",
     "output_type": "stream",
     "text": [
      "Epoch 1/2\n",
      "6981/6981 [==============================] - 1243s 177ms/step - loss: 0.0635 - accuracy: 0.9875 - val_loss: 0.0462 - val_accuracy: 0.9940\n",
      "Epoch 2/2\n",
      "6981/6981 [==============================] - 1307s 187ms/step - loss: 0.0466 - accuracy: 0.9927 - val_loss: 0.0431 - val_accuracy: 0.9941\n"
     ]
    }
   ],
   "source": [
    "history = model.fit(train, epochs=2, validation_data=val)"
   ]
  },
  {
   "cell_type": "code",
   "execution_count": 20,
   "id": "3ef9c238-bebf-4365-8ed8-8a4f499001a0",
   "metadata": {},
   "outputs": [],
   "source": [
    "input_text = ' I am going to kill you'"
   ]
  },
  {
   "cell_type": "code",
   "execution_count": 22,
   "id": "0542bf12-76b7-46da-9a93-3bdd81fa9ab4",
   "metadata": {},
   "outputs": [
    {
     "name": "stdout",
     "output_type": "stream",
     "text": [
      "1/1 [==============================] - 1s 953ms/step\n"
     ]
    },
    {
     "data": {
      "text/plain": [
       "array([[0.63701105, 0.00314104, 0.09066574, 0.01846391, 0.19383292,\n",
       "        0.03145851]], dtype=float32)"
      ]
     },
     "execution_count": 22,
     "metadata": {},
     "output_type": "execute_result"
    }
   ],
   "source": [
    "res = model.predict(np.expand_dims(vectorizer(input_text),0))\n",
    "\n",
    "flat_array = np.array(res).flatten()\n",
    "\n",
    "# flat_array\n",
    "\n",
    "output_array = [1 if value > 0.4 else 0 for value in flat_array]\n",
    "\n",
    "# output_array\n",
    "\n",
    "res\n",
    "\n"
   ]
  },
  {
   "cell_type": "code",
   "execution_count": 23,
   "id": "4be86d8e-8208-4b6f-9553-10fa47118d11",
   "metadata": {},
   "outputs": [
    {
     "name": "stdout",
     "output_type": "stream",
     "text": [
      "Model: \"sequential_1\"\n",
      "_________________________________________________________________\n",
      " Layer (type)                Output Shape              Param #   \n",
      "=================================================================\n",
      " embedding_1 (Embedding)     (None, None, 32)          6400032   \n",
      "                                                                 \n",
      " bidirectional_1 (Bidirectio  (None, 64)               16640     \n",
      " nal)                                                            \n",
      "                                                                 \n",
      " dense_4 (Dense)             (None, 128)               8320      \n",
      "                                                                 \n",
      " dense_5 (Dense)             (None, 256)               33024     \n",
      "                                                                 \n",
      " dense_6 (Dense)             (None, 128)               32896     \n",
      "                                                                 \n",
      " dense_7 (Dense)             (None, 6)                 774       \n",
      "                                                                 \n",
      "=================================================================\n",
      "Total params: 6,491,686\n",
      "Trainable params: 6,491,686\n",
      "Non-trainable params: 0\n",
      "_________________________________________________________________\n"
     ]
    }
   ],
   "source": [
    "model.summary()"
   ]
  },
  {
   "cell_type": "code",
   "execution_count": 24,
   "id": "ec0bb792-c632-45a9-b427-14540f4b730a",
   "metadata": {},
   "outputs": [],
   "source": [
    "model.save('Model_comments_toxicity/Comments_Toxicity.keras')\n",
    "\n"
   ]
  },
  {
   "cell_type": "code",
   "execution_count": 25,
   "id": "b877b44b-6d8b-4ef5-b3bd-68317fd29a13",
   "metadata": {},
   "outputs": [],
   "source": [
    "model.save_weights('Model_comments_toxicity/Comments_Toxicity_weights.keras')"
   ]
  },
  {
   "cell_type": "code",
   "execution_count": 26,
   "id": "c26e4b3f-44a5-483f-9744-3f5c3bef78f5",
   "metadata": {},
   "outputs": [],
   "source": [
    "new_model =  tf.keras.models.load_model(\"Model_comments_toxicity/Comments_Toxicity.keras\")\n"
   ]
  },
  {
   "cell_type": "code",
   "execution_count": 27,
   "id": "4407459a-8116-4ce2-bb58-850bdcb8fb0b",
   "metadata": {},
   "outputs": [
    {
     "name": "stdout",
     "output_type": "stream",
     "text": [
      "Model: \"sequential_1\"\n",
      "_________________________________________________________________\n",
      " Layer (type)                Output Shape              Param #   \n",
      "=================================================================\n",
      " embedding_1 (Embedding)     (None, None, 32)          6400032   \n",
      "                                                                 \n",
      " bidirectional_1 (Bidirectio  (None, 64)               16640     \n",
      " nal)                                                            \n",
      "                                                                 \n",
      " dense_4 (Dense)             (None, 128)               8320      \n",
      "                                                                 \n",
      " dense_5 (Dense)             (None, 256)               33024     \n",
      "                                                                 \n",
      " dense_6 (Dense)             (None, 128)               32896     \n",
      "                                                                 \n",
      " dense_7 (Dense)             (None, 6)                 774       \n",
      "                                                                 \n",
      "=================================================================\n",
      "Total params: 6,491,686\n",
      "Trainable params: 6,491,686\n",
      "Non-trainable params: 0\n",
      "_________________________________________________________________\n"
     ]
    }
   ],
   "source": [
    "new_model.summary()"
   ]
  },
  {
   "cell_type": "code",
   "execution_count": 29,
   "id": "8afa70f1-ee62-402e-9a03-7f849a4aec34",
   "metadata": {},
   "outputs": [
    {
     "name": "stdout",
     "output_type": "stream",
     "text": [
      "1/1 [==============================] - 1s 662ms/step\n"
     ]
    },
    {
     "data": {
      "text/plain": [
       "array([[0.63701105, 0.00314104, 0.09066574, 0.01846391, 0.19383292,\n",
       "        0.03145851]], dtype=float32)"
      ]
     },
     "execution_count": 29,
     "metadata": {},
     "output_type": "execute_result"
    }
   ],
   "source": [
    "input_text = ' I am going to kill you'\n",
    "\n",
    "res = new_model.predict(np.expand_dims(vectorizer(input_text),0))\n",
    "\n",
    "flat_array = np.array(res).flatten()\n",
    "\n",
    "# flat_array\n",
    "\n",
    "output_array = [1 if value > 0.4 else 0 for value in flat_array]\n",
    "\n",
    "# output_array\n",
    "\n",
    "res\n"
   ]
  },
  {
   "cell_type": "code",
   "execution_count": null,
   "id": "bf4a40a3-0c48-4d25-a543-6841ccbb5f05",
   "metadata": {},
   "outputs": [],
   "source": []
  }
 ],
 "metadata": {
  "kernelspec": {
   "display_name": "Python 3 (ipykernel)",
   "language": "python",
   "name": "python3"
  },
  "language_info": {
   "codemirror_mode": {
    "name": "ipython",
    "version": 3
   },
   "file_extension": ".py",
   "mimetype": "text/x-python",
   "name": "python",
   "nbconvert_exporter": "python",
   "pygments_lexer": "ipython3",
   "version": "3.10.13"
  }
 },
 "nbformat": 4,
 "nbformat_minor": 5
}
